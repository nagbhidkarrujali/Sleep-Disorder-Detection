{
 "cells": [
  {
   "cell_type": "markdown",
   "metadata": {},
   "source": [
    "# Sleep Disorder Prediction APP"
   ]
  },
  {
   "cell_type": "code",
   "execution_count": 1,
   "metadata": {},
   "outputs": [
    {
     "name": "stdout",
     "output_type": "stream",
     "text": [
      "Overwriting streamapp.py\n"
     ]
    }
   ],
   "source": [
    "%%writefile streamapp.py                 \n",
    "\n",
    "# Import the Libraries\n",
    "import streamlit as st \n",
    "import pandas as pd\n",
    "import numpy as np\n",
    "from joblib import load\n",
    "\n",
    "# Load the pickel file \n",
    "sleepdisorder = load('Sleep_Disorder_Prediction.pkl')\n",
    "\n",
    "# Function to take inputs\n",
    "def predict_disorder(gender,\n",
    "                     age,\n",
    "                     occupation,\n",
    "                     sleepduration,\n",
    "                     qualityofsleep,\n",
    "                     physicalactivitylevel,\n",
    "                     stresslevel,\n",
    "                     bmicategory,\n",
    "                     heartrate,\n",
    "                     dailysteps,\n",
    "                     systolic,\n",
    "                     diastolic):\n",
    "    \n",
    "    inputs_dict = {'Gender':gender,                              \n",
    "                    'Age': float(age),                            \n",
    "                    'Occupation' :occupation,        \n",
    "                    'Sleep Duration':float(sleepduration),                 \n",
    "                    'Quality of Sleep':float(qualityofsleep),               \n",
    "                    'Physical Activity Level':float(physicalactivitylevel),        \n",
    "                    'Stress Level':float(stresslevel),                     \n",
    "                    'BMI Category':bmicategory,                    \n",
    "                    'Heart Rate':float(heartrate),                         \n",
    "                    'Daily Steps':float(dailysteps),                                        \n",
    "                    'Systolic':float(systolic),                         \n",
    "                    'Diastolic':float(diastolic)}\n",
    "    \n",
    "    df = pd.DataFrame(inputs_dict, index = [0])\n",
    "    \n",
    "    disorder_pred = sleepdisorder.predict(df)[0]\n",
    "    return disorder_pred\n",
    "\n",
    "\n",
    "#function to define the app_layout\n",
    "def app_layout():\n",
    "\n",
    "    st.title('Sleep Disorder Prediction')\n",
    "    st.header('Enter Your Medical detail:') \n",
    "\n",
    "    ## Creating the user input fields\n",
    "\n",
    "    gender = st.radio('Gender:', \n",
    "                        ['Male', 'Female'], \n",
    "                        horizontal=True)\n",
    "\n",
    "    age = st.number_input('Age Of Person:', \n",
    "                          min_value=15,\n",
    "                          max_value=70, \n",
    "                          value=15)\n",
    "    \n",
    "    occupation = st.selectbox('Occupation:',\n",
    "                                ['Nurse' ,'Doctor' ,'Engineer' ,\n",
    "                                'Lawyer' ,'Teacher' ,'Accountant' ,\n",
    "                                'Salesperson' ,'Software Engineer' ,\n",
    "                                'Scientist' ,'Sales Representative','Manager' ])\n",
    "\n",
    "    sleepduration = st.number_input('Sleep Duration Time : Number Of hours the person sleeps per day ',\n",
    "                                    min_value=3.0, \n",
    "                                    max_value=24.0, \n",
    "                                    value=3.0)\n",
    "    \n",
    "    qualityofsleep = st.number_input('Sleep Quality time: A subjective rating of the quality of sleep, ranging from 1 to 10.',\n",
    "                                    min_value=1, \n",
    "                                    max_value=10, \n",
    "                                    value=1)\n",
    "    \n",
    "    physicalactivitylevel = st.number_input('Physical Activity Level : The number of minutes the person engages in physical activity daily.')\n",
    "\n",
    "    stresslevel = st.number_input('Stress Level : A subjective rating of the stress level experienced by the person, ranging from 1 to 10. ')\n",
    "\n",
    "    bmicategory = st.radio('Body Mass Index Category :',\n",
    "                            ['Overweight','Normal','Obese'],\n",
    "                            horizontal=True)\n",
    "        \n",
    "    heartrate = st.number_input('Heart Rate : The resting heart rate of the person in beats per minute.', \n",
    "                                min_value=50, \n",
    "                                max_value=100, \n",
    "                                value=50)\n",
    "\n",
    "    dailysteps = st.number_input('Daily Steps : The number of steps the person takes per day.')\n",
    "\n",
    "    systolic = st.number_input('Systolic BP : ')\n",
    "\n",
    "    diastolic = st.number_input('Diastolic BP : ')\n",
    "\n",
    "    if st.button('Predict Health'):\n",
    "        disorder = predict_disorder(gender,\n",
    "                                    age,\n",
    "                                    occupation,\n",
    "                                    sleepduration,\n",
    "                                    qualityofsleep,\n",
    "                                    physicalactivitylevel,\n",
    "                                    stresslevel,\n",
    "                                    bmicategory,\n",
    "                                    heartrate,\n",
    "                                    dailysteps,\n",
    "                                    systolic,\n",
    "                                    diastolic)\n",
    "        st.success(f'The Personr is havong {(disorder)}')\n",
    "        \n",
    "        if (disorder==\"none\"):\n",
    "               st.markdown(\"None : The individual does not exhibit any specific sleep disorder.\")\n",
    "        elif (disorder==\"Isomania\"):\n",
    "               st.markdown(\"Insomnia : The individual experiences difficulty falling asleep or staying asleep, leading to inadequate or poor-quality sleep.\")\n",
    "        elif (disorder==\"Sleep Apnea\"):\n",
    "               st.markdown(\"Sleep Apnea : The individual suffers from pauses in breathing during sleep, resulting in disrupted sleep patterns and potential health risks.\")\n",
    "\n",
    "if __name__=='__main__':\n",
    "  app_layout()"
   ]
  },
  {
   "cell_type": "code",
   "execution_count": 2,
   "metadata": {},
   "outputs": [
    {
     "name": "stdout",
     "output_type": "stream",
     "text": [
      "^C\n"
     ]
    }
   ],
   "source": [
    "!streamlit run streamapp.py"
   ]
  }
 ],
 "metadata": {
  "kernelspec": {
   "display_name": "Python 3",
   "language": "python",
   "name": "python3"
  },
  "language_info": {
   "codemirror_mode": {
    "name": "ipython",
    "version": 3
   },
   "file_extension": ".py",
   "mimetype": "text/x-python",
   "name": "python",
   "nbconvert_exporter": "python",
   "pygments_lexer": "ipython3",
   "version": "3.11.4"
  },
  "orig_nbformat": 4
 },
 "nbformat": 4,
 "nbformat_minor": 2
}
